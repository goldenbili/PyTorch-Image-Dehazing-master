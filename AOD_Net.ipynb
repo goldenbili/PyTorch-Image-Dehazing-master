{
  "nbformat": 4,
  "nbformat_minor": 0,
  "metadata": {
    "colab": {
      "name": "「「AOD-Net.ipynb」的副本」的副本",
      "provenance": [],
      "collapsed_sections": []
    },
    "kernelspec": {
      "name": "python3",
      "display_name": "Python 3"
    },
    "accelerator": "GPU"
  },
  "cells": [
    {
      "cell_type": "code",
      "metadata": {
        "id": "GXKRpUah8_uF",
        "colab": {
          "base_uri": "https://localhost:8080/"
        },
        "outputId": "6d9526d6-11fa-44d1-f1eb-007cec6fd305"
      },
      "source": [
        "!apt-get install -y -qq software-properties-common python-software-properties module-init-tools\n",
        "!add-apt-repository -y ppa:alessandro-strada/ppa 2>&1 > /dev/null\n",
        "!apt-get update -qq 2>&1 > /dev/null\n",
        "!apt-get -y install -qq google-drive-ocamlfuse fuse\n",
        " \n",
        "from google.colab import auth\n",
        "auth.authenticate_user()\n",
        "from oauth2client.client import GoogleCredentials\n",
        "creds = GoogleCredentials.get_application_default()\n",
        "import getpass\n",
        "!google-drive-ocamlfuse -headless -id={creds.client_id} -secret={creds.client_secret} < /dev/null 2>&1 | grep URL\n",
        "vcode = getpass.getpass()\n",
        "!echo {vcode} | google-drive-ocamlfuse -headless -id={creds.client_id} -secret={creds.client_secret}\n",
        " \n",
        " \n",
        "import datetime\n",
        "import json\n",
        "import os\n",
        "import pprint\n",
        "import random\n",
        "import string\n",
        "import sys\n",
        "import tensorflow as tf"
      ],
      "execution_count": null,
      "outputs": [
        {
          "output_type": "stream",
          "text": [
            "E: Package 'python-software-properties' has no installation candidate\n",
            "Selecting previously unselected package google-drive-ocamlfuse.\n",
            "(Reading database ... 145483 files and directories currently installed.)\n",
            "Preparing to unpack .../google-drive-ocamlfuse_0.7.24-0ubuntu1~ubuntu18.04.1_amd64.deb ...\n",
            "Unpacking google-drive-ocamlfuse (0.7.24-0ubuntu1~ubuntu18.04.1) ...\n",
            "Setting up google-drive-ocamlfuse (0.7.24-0ubuntu1~ubuntu18.04.1) ...\n",
            "Processing triggers for man-db (2.8.3-2ubuntu0.1) ...\n",
            "Please, open the following URL in a web browser: https://accounts.google.com/o/oauth2/auth?client_id=32555940559.apps.googleusercontent.com&redirect_uri=urn%3Aietf%3Awg%3Aoauth%3A2.0%3Aoob&scope=https%3A%2F%2Fwww.googleapis.com%2Fauth%2Fdrive&response_type=code&access_type=offline&approval_prompt=force\n",
            "··········\n",
            "Please, open the following URL in a web browser: https://accounts.google.com/o/oauth2/auth?client_id=32555940559.apps.googleusercontent.com&redirect_uri=urn%3Aietf%3Awg%3Aoauth%3A2.0%3Aoob&scope=https%3A%2F%2Fwww.googleapis.com%2Fauth%2Fdrive&response_type=code&access_type=offline&approval_prompt=force\n",
            "Please enter the verification code: Access token retrieved correctly.\n"
          ],
          "name": "stdout"
        }
      ]
    },
    {
      "cell_type": "code",
      "metadata": {
        "id": "UkY-4v1ByyXF",
        "colab": {
          "base_uri": "https://localhost:8080/",
          "height": 267
        },
        "outputId": "121d371e-0d70-4595-e32f-c03ea6fec036"
      },
      "source": [
        "# memory footprint support libraries/code\n",
        "!ln -sf /opt/bin/nvidia-smi /usr/bin/nvidia-smi\n",
        "!pip install gputil\n",
        "!pip install psutil\n",
        "!pip install humanize\n",
        "import psutil\n",
        "import humanize\n",
        "import os\n",
        "import GPUtil as GPU\n",
        "GPUs = GPU.getGPUs()\n",
        "# XXX: only one GPU on Colab and isn’t guaranteed\n",
        "gpu = GPUs[0]\n",
        "def printm():\n",
        " process = psutil.Process(os.getpid())\n",
        " print(\"Gen RAM Free: \" + humanize.naturalsize( psutil.virtual_memory().available ), \" | Proc size: \" + humanize.naturalsize( process.memory_info().rss))\n",
        " print(\"GPU RAM Free: {0:.0f}MB | Used: {1:.0f}MB | Util {2:3.0f}% | Total {3:.0f}MB\".format(gpu.memoryFree, gpu.memoryUsed, gpu.memoryUtil*100, gpu.memoryTotal))\n",
        "printm()"
      ],
      "execution_count": null,
      "outputs": [
        {
          "output_type": "stream",
          "text": [
            "Collecting gputil\n",
            "  Downloading https://files.pythonhosted.org/packages/ed/0e/5c61eedde9f6c87713e89d794f01e378cfd9565847d4576fa627d758c554/GPUtil-1.4.0.tar.gz\n",
            "Building wheels for collected packages: gputil\n",
            "  Building wheel for gputil (setup.py) ... \u001b[?25l\u001b[?25hdone\n",
            "  Created wheel for gputil: filename=GPUtil-1.4.0-cp36-none-any.whl size=7411 sha256=bc9ad2a530cbfc520e82fe3baa82995dfd0291f3616791b672b0d62179bdfdfc\n",
            "  Stored in directory: /root/.cache/pip/wheels/3d/77/07/80562de4bb0786e5ea186911a2c831fdd0018bda69beab71fd\n",
            "Successfully built gputil\n",
            "Installing collected packages: gputil\n",
            "Successfully installed gputil-1.4.0\n",
            "Requirement already satisfied: psutil in /usr/local/lib/python3.6/dist-packages (5.4.8)\n",
            "Requirement already satisfied: humanize in /usr/local/lib/python3.6/dist-packages (0.5.1)\n",
            "Gen RAM Free: 12.8 GB  | Proc size: 111.8 MB\n",
            "GPU RAM Free: 15079MB | Used: 0MB | Util   0% | Total 15079MB\n"
          ],
          "name": "stdout"
        }
      ]
    },
    {
      "cell_type": "code",
      "metadata": {
        "id": "guVoesClznIc"
      },
      "source": [
        "import numpy as np\n",
        "from keras.layers import Conv2D, MaxPooling2D, AveragePooling2D\n",
        "from keras.layers import Dropout, Flatten, Dense\n",
        "from keras.models import Sequential\n",
        "from keras.layers.advanced_activations import LeakyReLU\n",
        "from keras.datasets import cifar10\n",
        "(train_features, train_labels), (test_features, test_labels) = cifar10.load_data()\n",
        "model = Sequential()\n",
        "\n",
        "model.add(Conv2D(filters=16, kernel_size=(2, 2), padding=\"same\", activation=\"relu\", input_shape=(train_features.shape[1:])))\n",
        "model.add(MaxPooling2D(pool_size=(2, 2), padding='same'))\n",
        "\n",
        "model.add(Conv2D(filters=32, kernel_size=(3, 3), padding=\"same\", activation=\"relu\"))\n",
        "model.add(MaxPooling2D(pool_size=(2, 2), padding='same'))\n",
        "\n",
        "model.add(Conv2D(filters=64, kernel_size=(4, 4), padding=\"same\", activation=\"relu\"))\n",
        "model.add(MaxPooling2D(pool_size=(2, 2), padding='same'))\n",
        "\n",
        "model.add(Flatten())\n",
        "\n",
        "model.add(Dense(25600, activation=\"relu\"))\n",
        "model.add(Dense(25600, activation=\"relu\"))\n",
        "model.add(Dense(25600, activation=\"relu\"))\n",
        "model.add(Dense(25600, activation=\"relu\"))\n",
        "model.add(Dense(10, activation=\"softmax\"))\n",
        "\n",
        "model.compile(optimizer='adam', loss='sparse_categorical_crossentropy', metrics=['accuracy'])\n",
        "\n",
        "model.fit(train_features, train_labels, validation_split=0.2, epochs=10, batch_size=128, verbose=1)"
      ],
      "execution_count": null,
      "outputs": []
    },
    {
      "cell_type": "code",
      "metadata": {
        "id": "6FbTwfyTy71D",
        "colab": {
          "base_uri": "https://localhost:8080/"
        },
        "outputId": "dd6e4789-a63b-42bb-9592-0e8374a978f0"
      },
      "source": [
        "!ps ax | grep python"
      ],
      "execution_count": null,
      "outputs": [
        {
          "output_type": "stream",
          "text": [
            "     48 ?        Sl     0:00 /usr/bin/python2 /usr/local/bin/jupyter-notebook --ip=\"172.28.0.2\" --port=9000 --FileContentsManager.root_dir=\"/\" --LargeFileManager.delete_to_trash=False --MappingKernelManager.root_dir=\"/content\"\n",
            "     59 ?        Ssl    0:02 /usr/bin/python3 -m ipykernel_launcher -f /root/.local/share/jupyter/runtime/kernel-cbe24811-cae2-44b9-b87c-3780f730f19c.json\n",
            "   2065 ?        Zs     0:00 [python3] <defunct>\n",
            "   2081 ?        S      0:00 /bin/bash -c ps ax | grep python\n",
            "   2083 ?        S      0:00 grep python\n"
          ],
          "name": "stdout"
        }
      ]
    },
    {
      "cell_type": "code",
      "metadata": {
        "id": "CtmF7D_N-8yG",
        "colab": {
          "base_uri": "https://localhost:8080/"
        },
        "outputId": "019cadc2-cb9b-44e5-de7c-c020a160f2db"
      },
      "source": [
        "!nvidia-smi"
      ],
      "execution_count": null,
      "outputs": [
        {
          "output_type": "stream",
          "text": [
            "Wed Dec 16 05:16:45 2020       \n",
            "+-----------------------------------------------------------------------------+\n",
            "| NVIDIA-SMI 455.45.01    Driver Version: 418.67       CUDA Version: 10.1     |\n",
            "|-------------------------------+----------------------+----------------------+\n",
            "| GPU  Name        Persistence-M| Bus-Id        Disp.A | Volatile Uncorr. ECC |\n",
            "| Fan  Temp  Perf  Pwr:Usage/Cap|         Memory-Usage | GPU-Util  Compute M. |\n",
            "|                               |                      |               MIG M. |\n",
            "|===============================+======================+======================|\n",
            "|   0  Tesla T4            Off  | 00000000:00:04.0 Off |                    0 |\n",
            "| N/A   39C    P8     9W /  70W |      0MiB / 15079MiB |      0%      Default |\n",
            "|                               |                      |                 ERR! |\n",
            "+-------------------------------+----------------------+----------------------+\n",
            "                                                                               \n",
            "+-----------------------------------------------------------------------------+\n",
            "| Processes:                                                                  |\n",
            "|  GPU   GI   CI        PID   Type   Process name                  GPU Memory |\n",
            "|        ID   ID                                                   Usage      |\n",
            "|=============================================================================|\n",
            "|  No running processes found                                                 |\n",
            "+-----------------------------------------------------------------------------+\n"
          ],
          "name": "stdout"
        }
      ]
    },
    {
      "cell_type": "code",
      "metadata": {
        "id": "ZXm1ao7cYHru"
      },
      "source": [
        "!kill -9 -1"
      ],
      "execution_count": null,
      "outputs": []
    },
    {
      "cell_type": "code",
      "metadata": {
        "id": "5SO8PBsJcsJ6",
        "colab": {
          "base_uri": "https://localhost:8080/"
        },
        "outputId": "6f037df9-b393-47d6-dee8-4650cee2ba8c"
      },
      "source": [
        "# Load the Drive helper and mount\n",
        "from google.colab import drive\n",
        "# This will prompt for authorization.\n",
        "drive.mount('/content/drive')"
      ],
      "execution_count": null,
      "outputs": [
        {
          "output_type": "stream",
          "text": [
            "Mounted at /content/drive\n"
          ],
          "name": "stdout"
        }
      ]
    },
    {
      "cell_type": "code",
      "metadata": {
        "id": "P5yq58XEAxVQ",
        "colab": {
          "base_uri": "https://localhost:8080/"
        },
        "outputId": "3310ad96-3fdd-4184-ca52-0c53fd428d33"
      },
      "source": [
        "import sys\n",
        "\n",
        "!test -d PyTorch-Image-Dehazing-master || git clone https://github.com/goldenbili/PyTorch-Image-Dehazing-master\n",
        "if not 'PyTorch-Image-Dehazing-master' in sys.path:\n",
        "  sys.path += ['PyTorch-Image-Dehazing-master']\n",
        "%cd PyTorch-Image-Dehazing-master/\n",
        "!pwd  "
      ],
      "execution_count": null,
      "outputs": [
        {
          "output_type": "stream",
          "text": [
            "Cloning into 'PyTorch-Image-Dehazing-master'...\n",
            "remote: Enumerating objects: 35, done.\u001b[K\n",
            "remote: Counting objects: 100% (35/35), done.\u001b[K\n",
            "remote: Compressing objects: 100% (35/35), done.\u001b[K\n",
            "remote: Total 638 (delta 19), reused 0 (delta 0), pack-reused 603\u001b[K\n",
            "Receiving objects: 100% (638/638), 15.80 MiB | 40.96 MiB/s, done.\n",
            "Resolving deltas: 100% (256/256), done.\n",
            "/content/PyTorch-Image-Dehazing-master\n",
            "/content/PyTorch-Image-Dehazing-master\n"
          ],
          "name": "stdout"
        }
      ]
    },
    {
      "cell_type": "code",
      "metadata": {
        "id": "QW98QfaB8bRp"
      },
      "source": [
        "!rm -r /content/PyTorch-Image-Dehazing-master/"
      ],
      "execution_count": null,
      "outputs": []
    },
    {
      "cell_type": "code",
      "metadata": {
        "id": "BDRTN4ZlBpEd",
        "colab": {
          "base_uri": "https://localhost:8080/"
        },
        "outputId": "47ac512b-ce9f-4d25-a28f-842255854dc1"
      },
      "source": [
        "!wget http://data.vision.ee.ethz.ch/cvl/DIV2K/DIV2K_train_HR.zip\n",
        "!wget http://data.vision.ee.ethz.ch/cvl/DIV2K/DIV2K_valid_HR.zip\n",
        "!unzip -q DIV2K_train_HR.zip -d data\n",
        "!unzip -q DIV2K_valid_HR.zip -d data\n",
        "!rm DIV2K_train_HR.zip\n",
        "!rm DIV2K_valid_HR.zip"
      ],
      "execution_count": null,
      "outputs": [
        {
          "output_type": "stream",
          "text": [
            "--2020-12-18 03:40:43--  http://data.vision.ee.ethz.ch/cvl/DIV2K/DIV2K_train_HR.zip\n",
            "Resolving data.vision.ee.ethz.ch (data.vision.ee.ethz.ch)... 129.132.52.162\n",
            "Connecting to data.vision.ee.ethz.ch (data.vision.ee.ethz.ch)|129.132.52.162|:80... connected.\n",
            "HTTP request sent, awaiting response... 302 Found\n",
            "Location: https://data.vision.ee.ethz.ch/cvl/DIV2K/DIV2K_train_HR.zip [following]\n",
            "--2020-12-18 03:40:44--  https://data.vision.ee.ethz.ch/cvl/DIV2K/DIV2K_train_HR.zip\n",
            "Connecting to data.vision.ee.ethz.ch (data.vision.ee.ethz.ch)|129.132.52.162|:443... connected.\n",
            "HTTP request sent, awaiting response... 200 OK\n",
            "Length: 3530603713 (3.3G) [application/zip]\n",
            "Saving to: ‘DIV2K_train_HR.zip’\n",
            "\n",
            "DIV2K_train_HR.zip    3%[                    ] 132.44M  1.53MB/s    eta 10m 27s"
          ],
          "name": "stdout"
        }
      ]
    },
    {
      "cell_type": "code",
      "metadata": {
        "id": "0Vip2CcS7zYw"
      },
      "source": [
        "!rm -r data/"
      ],
      "execution_count": null,
      "outputs": []
    },
    {
      "cell_type": "code",
      "metadata": {
        "id": "1EQdF0XREXzy"
      },
      "source": [
        "!mkdir ./data\n",
        "!cp ../drive/MyDrive/AOD-Net/original_image.zip ./data/\n",
        "!unzip -q ./data/original_image.zip -d data\n",
        "!rm ./data/original_image.zip"
      ],
      "execution_count": null,
      "outputs": []
    },
    {
      "cell_type": "code",
      "metadata": {
        "id": "uL4Iy3TS9hFx"
      },
      "source": [
        "from datetime import datetime\n",
        "now = datetime.now()\n",
        "snapshotPaht = \"/content/drive/MyDrive/AOD-Net/snapshot-\"+datetime.strftime(now,'%Y-%m-%d_%H:%M:%S')\n",
        "!mkdir $snapshotPaht\n",
        "sampleOutputPaht = \"/content/drive/MyDrive/AOD-Net/sampleOutputPaht-\"+datetime.strftime(now,'%Y-%m-%d_%H:%M:%S')\n",
        "!mkdir $sampleOutputPaht\n",
        "snapshotPaht = snapshotPaht + '/'\n",
        "sampleOutputPaht = sampleOutputPaht + '/'"
      ],
      "execution_count": 15,
      "outputs": []
    },
    {
      "cell_type": "code",
      "metadata": {
        "id": "gz3vFG0IdYyt"
      },
      "source": [
        "!cd /content/PyTorch-Image-Dehazing-master/"
      ],
      "execution_count": null,
      "outputs": []
    },
    {
      "cell_type": "code",
      "metadata": {
        "id": "17yNVRazlfy8"
      },
      "source": [
        "!cd PyTorch-Image-Dehazing-master/"
      ],
      "execution_count": null,
      "outputs": []
    },
    {
      "cell_type": "code",
      "metadata": {
        "id": "ZC6CO2eeF0es",
        "colab": {
          "base_uri": "https://localhost:8080/"
        },
        "outputId": "15272b27-1e91-483b-bcf6-a77c675289f9"
      },
      "source": [
        "!python -c \"import torch; print(torch.__version__)\""
      ],
      "execution_count": null,
      "outputs": [
        {
          "output_type": "stream",
          "text": [
            "1.7.0+cu101\n"
          ],
          "name": "stdout"
        }
      ]
    },
    {
      "cell_type": "code",
      "metadata": {
        "id": "P5vAqPepIrIi",
        "colab": {
          "base_uri": "https://localhost:8080/"
        },
        "outputId": "136b5fb7-71f2-471e-9643-5d5b3a027513"
      },
      "source": [
        "!python -c \"import torchvision; print(torchvision.__version__)\""
      ],
      "execution_count": null,
      "outputs": [
        {
          "output_type": "stream",
          "text": [
            "0.8.1+cu101\n"
          ],
          "name": "stdout"
        }
      ]
    },
    {
      "cell_type": "code",
      "metadata": {
        "id": "Gunmjw5QLaPS"
      },
      "source": [
        "!pip install torchvision==0.5"
      ],
      "execution_count": null,
      "outputs": []
    },
    {
      "cell_type": "code",
      "metadata": {
        "id": "8fJ53TKWKeTC"
      },
      "source": [
        "!pip install torch==1.4"
      ],
      "execution_count": null,
      "outputs": []
    },
    {
      "cell_type": "code",
      "metadata": {
        "id": "pMJIhQBP2HPx",
        "colab": {
          "base_uri": "https://localhost:8080/"
        },
        "outputId": "f88a4a29-7a61-4207-b389-d0980f1c176b"
      },
      "source": [
        "!pip install piq"
      ],
      "execution_count": null,
      "outputs": [
        {
          "output_type": "stream",
          "text": [
            "Collecting piq\n",
            "\u001b[?25l  Downloading https://files.pythonhosted.org/packages/c4/2d/2cd55fbc4569035eac63ca6963cc9fd0615ecd72cf2e0f636d0e401420fe/piq-0.5.2-py3-none-any.whl (96kB)\n",
            "\r\u001b[K     |███▍                            | 10kB 26.5MB/s eta 0:00:01\r\u001b[K     |██████▉                         | 20kB 16.6MB/s eta 0:00:01\r\u001b[K     |██████████▏                     | 30kB 14.3MB/s eta 0:00:01\r\u001b[K     |█████████████▋                  | 40kB 13.9MB/s eta 0:00:01\r\u001b[K     |█████████████████               | 51kB 11.5MB/s eta 0:00:01\r\u001b[K     |████████████████████▍           | 61kB 11.4MB/s eta 0:00:01\r\u001b[K     |███████████████████████▉        | 71kB 11.5MB/s eta 0:00:01\r\u001b[K     |███████████████████████████▎    | 81kB 11.7MB/s eta 0:00:01\r\u001b[K     |██████████████████████████████▋ | 92kB 11.4MB/s eta 0:00:01\r\u001b[K     |████████████████████████████████| 102kB 7.4MB/s \n",
            "\u001b[?25hRequirement already satisfied: scipy>=1.3.3 in /usr/local/lib/python3.6/dist-packages (from piq) (1.4.1)\n",
            "Requirement already satisfied: torchvision>=0.4.0 in /usr/local/lib/python3.6/dist-packages (from piq) (0.8.1+cu101)\n",
            "Collecting gudhi>=3.2\n",
            "\u001b[?25l  Downloading https://files.pythonhosted.org/packages/29/40/28b415091a6f0cbd13b1c8728fc9f4aafb3212075cc476819aa02f15a8ec/gudhi-3.4.0-cp36-cp36m-manylinux2014_x86_64.whl (26.0MB)\n",
            "\u001b[K     |████████████████████████████████| 26.0MB 132kB/s \n",
            "\u001b[?25hRequirement already satisfied: numpy>=1.13.3 in /usr/local/lib/python3.6/dist-packages (from scipy>=1.3.3->piq) (1.19.5)\n",
            "Requirement already satisfied: pillow>=4.1.1 in /usr/local/lib/python3.6/dist-packages (from torchvision>=0.4.0->piq) (7.0.0)\n",
            "Requirement already satisfied: torch==1.7.0 in /usr/local/lib/python3.6/dist-packages (from torchvision>=0.4.0->piq) (1.7.0+cu101)\n",
            "Requirement already satisfied: dataclasses in /usr/local/lib/python3.6/dist-packages (from torch==1.7.0->torchvision>=0.4.0->piq) (0.8)\n",
            "Requirement already satisfied: typing-extensions in /usr/local/lib/python3.6/dist-packages (from torch==1.7.0->torchvision>=0.4.0->piq) (3.7.4.3)\n",
            "Requirement already satisfied: future in /usr/local/lib/python3.6/dist-packages (from torch==1.7.0->torchvision>=0.4.0->piq) (0.16.0)\n",
            "Installing collected packages: gudhi, piq\n",
            "Successfully installed gudhi-3.4.0 piq-0.5.2\n"
          ],
          "name": "stdout"
        }
      ]
    },
    {
      "cell_type": "code",
      "metadata": {
        "id": "LPcMAwwnyEAY"
      },
      "source": [
        "background_color = 'mix'\n",
        "line_color = 'random'\n",
        "image_path = '/content/drive/MyDrive/AOD-Net/test_images/' + background_color + '/' + line_color + '/'"
      ],
      "execution_count": 16,
      "outputs": []
    },
    {
      "cell_type": "code",
      "metadata": {
        "id": "xdOxHqAh0n4j",
        "colab": {
          "base_uri": "https://localhost:8080/"
        },
        "outputId": "8e5925a8-850a-4f53-fa4e-7a1a271452ff"
      },
      "source": [
        "print(image_path)\n",
        "print(snapshotPaht)\n",
        "print(sampleOutputPaht)"
      ],
      "execution_count": 17,
      "outputs": [
        {
          "output_type": "stream",
          "text": [
            "/content/drive/MyDrive/AOD-Net/test_images/mix/random/\n",
            "/content/drive/MyDrive/AOD-Net/snapshot-2021-01-20_10:47:11/\n",
            "/content/drive/MyDrive/AOD-Net/sampleOutputPaht-2021-01-20_10:47:11/\n"
          ],
          "name": "stdout"
        }
      ]
    },
    {
      "cell_type": "code",
      "metadata": {
        "id": "gxdPLxLdwRak"
      },
      "source": [
        "! python make_image.py \\\n",
        "  --width 32 \\\n",
        "  --height 32 \\\n",
        "  --background $background_color \\\n",
        "  --line_color $line_color \\\n",
        "  --num_images 1000 \\\n",
        "  --load_path $image_path"
      ],
      "execution_count": null,
      "outputs": []
    },
    {
      "cell_type": "code",
      "metadata": {
        "id": "TDgDNUJ0GfJ0",
        "colab": {
          "base_uri": "https://localhost:8080/"
        },
        "outputId": "e6798249-a0df-4908-b9c5-a90e43488921"
      },
      "source": [
        "! python train.py \\\n",
        "  --use_gpu 1 \\\n",
        "  --orig_images_path /content/drive/MyDrive/AOD-Net/test_images/white/random/ \\\n",
        "  --snapshots_folder $snapshotPaht \\\n",
        "  --sample_output_folder $sampleOutputPaht \\\n",
        "  --snap_train_data dehazer.pth \\\n",
        "  --resize 0 \\\n",
        "  --num_workers 4 \\\n",
        "  --num_epochs 50"
      ],
      "execution_count": null,
      "outputs": [
        {
          "output_type": "stream",
          "text": [
            "snapshots_folder:/content/drive/MyDrive/AOD-Net/snapshot-2021-01-20_10:47:11/\n",
            "snap_train_data:dehazer.pth\n",
            "sample_output_folder:/content/drive/MyDrive/AOD-Net/sampleOutputPaht-2021-01-20_10:47:11/\n",
            "conf.resize:\n",
            "0\n",
            "dehaze_net(\n",
            "  (relu): ReLU(inplace=True)\n",
            "  (e_conv1): Conv2d(3, 3, kernel_size=(1, 1), stride=(1, 1))\n",
            "  (e_conv2): Conv2d(3, 3, kernel_size=(3, 3), stride=(1, 1), padding=(1, 1))\n",
            "  (e_conv3): Conv2d(6, 3, kernel_size=(5, 5), stride=(1, 1), padding=(2, 2))\n",
            "  (e_conv4): Conv2d(6, 3, kernel_size=(7, 7), stride=(1, 1), padding=(3, 3))\n",
            "  (e_conv5): Conv2d(12, 2, kernel_size=(3, 3), stride=(1, 1), padding=(1, 1))\n",
            ")\n",
            "Total training examples: 900\n",
            "Total validation examples: 100\n"
          ],
          "name": "stdout"
        }
      ]
    },
    {
      "cell_type": "code",
      "metadata": {
        "id": "CjnhXm_O_Orm"
      },
      "source": [
        "!cp -R ./epochs/ ../drive/My\\ Drive/"
      ],
      "execution_count": null,
      "outputs": []
    },
    {
      "cell_type": "code",
      "metadata": {
        "id": "J_3OnrRRAGY8"
      },
      "source": [
        "!cp -R ./training_results ../drive/My\\ Drive/"
      ],
      "execution_count": null,
      "outputs": []
    },
    {
      "cell_type": "code",
      "metadata": {
        "id": "QEbQ4DAFG0cl"
      },
      "source": [
        "!cp -R ./training_results ../drive/My\\ Drive/"
      ],
      "execution_count": null,
      "outputs": []
    }
  ]
}